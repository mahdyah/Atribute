{
  "nbformat": 4,
  "nbformat_minor": 0,
  "metadata": {
    "colab": {
      "provenance": [],
      "toc_visible": true,
      "include_colab_link": true
    },
    "kernelspec": {
      "name": "python3",
      "display_name": "Python 3"
    },
    "language_info": {
      "name": "python"
    }
  },
  "cells": [
    {
      "cell_type": "markdown",
      "metadata": {
        "id": "view-in-github",
        "colab_type": "text"
      },
      "source": [
        "<a href=\"https://colab.research.google.com/github/mahdyah/Atribute/blob/main/Copy_of_Sentiment_analysis_pipeline_examples.ipynb\" target=\"_parent\"><img src=\"https://colab.research.google.com/assets/colab-badge.svg\" alt=\"Open In Colab\"/></a>"
      ]
    },
    {
      "cell_type": "code",
      "source": [
        "!pip install huggingface_hub\n",
        "\n",
        "\n",
        "!huggingface-cli login\n",
        "\n",
        "!huggingface-cli repo create repo_name --type {model, dataset, space}"
      ],
      "metadata": {
        "id": "f2nUndSflQp0"
      },
      "execution_count": null,
      "outputs": []
    },
    {
      "cell_type": "code",
      "source": [
        "!git config --global credential.helper store"
      ],
      "metadata": {
        "id": "o9z43QJBmZ3F"
      },
      "execution_count": 10,
      "outputs": []
    },
    {
      "cell_type": "markdown",
      "source": [
        "# 1. Install dependencies"
      ],
      "metadata": {
        "id": "oTaCz1i7WojQ"
      }
    },
    {
      "cell_type": "code",
      "execution_count": null,
      "metadata": {
        "id": "e_puNMeUsx2p"
      },
      "outputs": [],
      "source": [
        "!pip install -q transformers"
      ]
    },
    {
      "cell_type": "markdown",
      "source": [
        "# 3. Use a specific sentiment analysis model available on the Hub by specifying its name"
      ],
      "metadata": {
        "id": "JJmScQF_W1fR"
      }
    },
    {
      "cell_type": "code",
      "source": [
        "from google.colab import drive\n",
        "drive.mount('/content/drive')"
      ],
      "metadata": {
        "colab": {
          "base_uri": "https://localhost:8080/"
        },
        "id": "csjR6cALNWoM",
        "outputId": "3c071b45-0195-4d90-a5db-2fa1256d2b39"
      },
      "execution_count": null,
      "outputs": [
        {
          "output_type": "stream",
          "name": "stdout",
          "text": [
            "Mounted at /content/drive\n"
          ]
        }
      ]
    },
    {
      "cell_type": "code",
      "source": [
        "# Using pipeline class to make predictions from models available in the Hub in an easy way \n",
        "from transformers import pipeline\n",
        "sentiment_pipeline = pipeline(\"sentiment-analysis\")\n",
        "data = [\"I love you\", \"I hate you\"]\n",
        "sentiment_pipeline(data)"
      ],
      "metadata": {
        "id": "UIwEwL2UOi7i"
      },
      "execution_count": null,
      "outputs": []
    },
    {
      "cell_type": "code",
      "source": [
        "# Using a specific model for sentiment analysis\n",
        "specific_model = pipeline(model=\"argilla/twitter-coronavirus\")\n",
        "specific_model(data)"
      ],
      "metadata": {
        "id": "9s-KqAx1s6qo"
      },
      "execution_count": null,
      "outputs": []
    }
  ]
}